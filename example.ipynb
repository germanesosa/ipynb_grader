{
 "cells": [
  {
   "cell_type": "markdown",
   "metadata": {},
   "source": [
    "# Jupyter Grader\n",
    "\n",
    "Este cuaderno interactivo de Jupyter Notebook fue creado con el objetivo de fijar un criterio de corrección (rúbrica) aprovechando las posibilidades de ipywidgets, emulando el sistema utilizado en sistemas LMS como Mooddle.\n",
    "\n",
    "Además de lograr un criterio transversal de corrección entre un equipo de docentes, puede ser compartido con los alumnos con antelación a la ejecución de la tarea (tarea propiamente dicha, examen, trabajo práctico, etc).\n",
    "\n",
    "Para calificar una tarea, se debe:\n",
    "- Crear una copia de este archivo y del archivo jupyter_grader.py en una Carpeta que identifique a la tarea en cuestión. \n",
    "- Determinar los tipos de rúbrica, tal como se hace en el ejemplo.\n",
    "- Crear grupos de calificación indicando en cada uno los items a evaluar, y el tipo de rúbrica asociado, como en el ejemplo.\n",
    "- Generar una copia de este archivo .ipynb para cada alumno (o grupo) al que se vaya a corregir la tarea, dando a la copia un nombre representativo.\n",
    "\n",
    "Para almacenar la calificación:\n",
    "- El método exportar() crea un archivo con el mismo nombre dado a este archivo y extensión .csv donde se almacenan las calificaciones de cada item.\n",
    "- El método importar() permite traer una calificación previamente realizada, para editarla y luego volver a exportarla cuando sea necesario"
   ]
  },
  {
   "cell_type": "markdown",
   "metadata": {},
   "source": [
    "## Dependencias:"
   ]
  },
  {
   "cell_type": "code",
   "execution_count": 26,
   "metadata": {},
   "outputs": [],
   "source": [
    "from ipywidgets import *\n",
    "from IPython.display import display, HTML\n",
    "import jupyter_grader as grader"
   ]
  },
  {
   "cell_type": "markdown",
   "metadata": {},
   "source": [
    "## Tipos de Rúbrica"
   ]
  },
  {
   "cell_type": "code",
   "execution_count": 27,
   "metadata": {},
   "outputs": [],
   "source": [
    "rubricaPresentacion = [('La presentación no cumple con los mínimos requisitos esperados.',0), ('La presentación es aceptable.',1), ('La presentación es buena.',2), ('La presentación es muy buena.',4), ('La presentación supera lo esperado.',6)]\n",
    "rubricaBinaria4 = [('No', 0), ('Sí', 4)]\n",
    "rubricaBinaria6 = [('No', 0), ('Sí', 6)]\n",
    "rubricaCualitativa6 = [('No justifica la elección del método.',0), ('La justificación es muy pobre o contiene errores conceptuales.',1), ('La justificación es buena.',4), ('La justificación es muy buena.',6)]\n",
    "rubricaResultados4 = [('Sin resultado.s',0), ('Resultados incorrectos.',1), ('Resultados correctos.',4)]\n",
    "rubricaCualitativa4= [('No justifica la elección de una tolerancia.',0), ('Justifica la elección de una tolerancia.',2), ('Justifica muy bien la elección de una tolerancia.',4)]\n",
    "rubricaCualitativa62 = [('No presenta análisis de resultados.',0), ('El análisis de resultados es muy pobre o contiene errores conceptuales.',1), ('El análisis de resultados es bueno.',4), ('El análisis de resultados es es muy bueno.',6)]\n",
    "rubricaCualitativa63 = [('No presenta conclusiones.',0), ('Las conclusiones son muy pobres o contienen errores conceptuales.',1), ('Las conclusiones son buenas.',4), ('Las conclusiones son muy buenas.',6)]\n",
    "rubricaCualitativa10 = [('No propone ninguna resolución.',0), ('Propone una resolución, desarrollo breve de la idea.',2), ('Propone una resolución con un buen desarrollo de la idea.',6), ('Propone una resolución con un desarrollo de la idea que supera lo esperado',10)]"
   ]
  },
  {
   "cell_type": "markdown",
   "metadata": {},
   "source": [
    "## Grupos, Items y Rúbricas:"
   ]
  },
  {
   "cell_type": "code",
   "execution_count": 28,
   "metadata": {},
   "outputs": [],
   "source": [
    "grupos = {\n",
    "    'General':{\n",
    "        'Presentación del informe': rubricaPresentacion,\n",
    "        '¿Han Entregado en Fecha?': rubricaBinaria4,\n",
    "        '¿Han respondido todos el cuestionario?': rubricaBinaria6,\n",
    "        'Justificación de la elección de la tolerancia': rubricaCualitativa4, \n",
    "        'Conclusiones generales': rubricaCualitativa63,\n",
    "        \n",
    "    },   \n",
    "    'Arranque':{\n",
    "        'Justificación del método elegido': rubricaCualitativa6,\n",
    "        'Resultados obtenidos por el método de arranque': rubricaResultados4,   \n",
    "    },\n",
    "    'Refinamiento':{\n",
    "        'Justificación del método elegido': rubricaCualitativa6,\n",
    "        'Resultados obtenidos por el método iterativo': rubricaResultados4,\n",
    "        'Análisis de resultados para los dos valores iniciales': rubricaCualitativa62,\n",
    "      \n",
    "     },\n",
    "    'Problema Abierto':{\n",
    "        'Planteo del problema abierto': rubricaCualitativa10,\n",
    "        '¿Presenta una tabla con los 30 puntos?': rubricaBinaria4,\n",
    "        '¿Propone un ejemplo de la idea desarrollada?': rubricaBinaria6,\n",
    "    }    \n",
    "}"
   ]
  },
  {
   "cell_type": "markdown",
   "metadata": {},
   "source": [
    "## Inicialización e Importación"
   ]
  },
  {
   "cell_type": "code",
   "execution_count": 29,
   "metadata": {},
   "outputs": [],
   "source": [
    "Nota = grader.Calificacion(grupos)\n",
    "#Nota.Importar() #Descomentar el comienzo de la linea para importar las notas "
   ]
  },
  {
   "cell_type": "markdown",
   "metadata": {},
   "source": [
    "## Creación de Pestañas"
   ]
  },
  {
   "cell_type": "code",
   "execution_count": 30,
   "metadata": {},
   "outputs": [
    {
     "data": {
      "application/vnd.jupyter.widget-view+json": {
       "model_id": "24b075ee9430486bb8ecc85f7b27c464",
       "version_major": 2,
       "version_minor": 0
      },
      "text/plain": [
       "Tab(children=(VBox(children=(Text(value='Presentación del informe'), interactive(children=(Dropdown(descriptio…"
      ]
     },
     "metadata": {},
     "output_type": "display_data"
    }
   ],
   "source": [
    "# Este bloque de código no puede enviarse a la clase jupyter_grader\n",
    "# ya que las pestañas no se generan correctamente\n",
    "\n",
    "def Variar(**args):\n",
    "    for indice,nota in args.items():\n",
    "        indice = int(indice[1:])\n",
    "        Nota.Actualizar(indice,nota)\n",
    "        \n",
    "tab = widgets.Tab()\n",
    "children = []\n",
    "j = 0\n",
    "for grupo,criterios in grupos.items():\n",
    "    i = 0\n",
    "    ficha = ''\n",
    "    for criterio, nota in criterios.items():\n",
    "        exec('X'+str(j)+' = Dropdown(options = '+str(nota)+', description = \\'Comentario\\', value = '+str(Nota.puntos[j])+')')\n",
    "        exec('F'+str(j)+' = interactive(Variar, X'+str(j)+' = X'+str(j)+')')   \n",
    "        exec('E'+str(j)+' = Text(value = \\''+criterio+'\\')')        \n",
    "        exec('ficha += \\'E'+str(j)+',F'+str(j)+',\\'')  \n",
    "        j+=1\n",
    "    exec('children.append(VBox(['+ficha[:-1]+']))')    \n",
    "for i in range(len(children)):\n",
    "    tab.set_title(i, list(grupos)[i])        \n",
    "tab.children = children\n",
    "display(tab)"
   ]
  },
  {
   "cell_type": "markdown",
   "metadata": {},
   "source": [
    "## Almcenamiento, Resultados y Exportación"
   ]
  },
  {
   "cell_type": "code",
   "execution_count": 31,
   "metadata": {},
   "outputs": [
    {
     "data": {
      "text/html": [
       "<table border=\"1\" class=\"dataframe\">\n",
       "  <thead>\n",
       "    <tr style=\"text-align: right;\">\n",
       "      <th></th>\n",
       "      <th>Grupo</th>\n",
       "      <th>Criterio</th>\n",
       "      <th>Puntos</th>\n",
       "      <th>Sobre</th>\n",
       "    </tr>\n",
       "  </thead>\n",
       "  <tbody>\n",
       "    <tr>\n",
       "      <th>0</th>\n",
       "      <td>General</td>\n",
       "      <td>Presentación del informe</td>\n",
       "      <td>0</td>\n",
       "      <td>6</td>\n",
       "    </tr>\n",
       "    <tr>\n",
       "      <th>1</th>\n",
       "      <td>General</td>\n",
       "      <td>¿Han Entregado en Fecha?</td>\n",
       "      <td>0</td>\n",
       "      <td>4</td>\n",
       "    </tr>\n",
       "    <tr>\n",
       "      <th>2</th>\n",
       "      <td>General</td>\n",
       "      <td>¿Han respondido todos el cuestionario?</td>\n",
       "      <td>0</td>\n",
       "      <td>6</td>\n",
       "    </tr>\n",
       "    <tr>\n",
       "      <th>3</th>\n",
       "      <td>General</td>\n",
       "      <td>Justificación de la elección de la tolerancia</td>\n",
       "      <td>0</td>\n",
       "      <td>4</td>\n",
       "    </tr>\n",
       "    <tr>\n",
       "      <th>4</th>\n",
       "      <td>General</td>\n",
       "      <td>Conclusiones generales</td>\n",
       "      <td>0</td>\n",
       "      <td>6</td>\n",
       "    </tr>\n",
       "    <tr>\n",
       "      <th>5</th>\n",
       "      <td>Arranque</td>\n",
       "      <td>Justificación del método elegido</td>\n",
       "      <td>0</td>\n",
       "      <td>6</td>\n",
       "    </tr>\n",
       "    <tr>\n",
       "      <th>6</th>\n",
       "      <td>Arranque</td>\n",
       "      <td>Resultados obtenidos por el método de arranque</td>\n",
       "      <td>0</td>\n",
       "      <td>4</td>\n",
       "    </tr>\n",
       "    <tr>\n",
       "      <th>7</th>\n",
       "      <td>Refinamiento</td>\n",
       "      <td>Justificación del método elegido</td>\n",
       "      <td>0</td>\n",
       "      <td>6</td>\n",
       "    </tr>\n",
       "    <tr>\n",
       "      <th>8</th>\n",
       "      <td>Refinamiento</td>\n",
       "      <td>Resultados obtenidos por el método iterativo</td>\n",
       "      <td>0</td>\n",
       "      <td>4</td>\n",
       "    </tr>\n",
       "    <tr>\n",
       "      <th>9</th>\n",
       "      <td>Refinamiento</td>\n",
       "      <td>Análisis de resultados para los dos valores in...</td>\n",
       "      <td>0</td>\n",
       "      <td>6</td>\n",
       "    </tr>\n",
       "    <tr>\n",
       "      <th>10</th>\n",
       "      <td>Problema Abierto</td>\n",
       "      <td>Planteo del problema abierto</td>\n",
       "      <td>0</td>\n",
       "      <td>10</td>\n",
       "    </tr>\n",
       "    <tr>\n",
       "      <th>11</th>\n",
       "      <td>Problema Abierto</td>\n",
       "      <td>¿Presenta una tabla con los 30 puntos?</td>\n",
       "      <td>0</td>\n",
       "      <td>4</td>\n",
       "    </tr>\n",
       "    <tr>\n",
       "      <th>12</th>\n",
       "      <td>Problema Abierto</td>\n",
       "      <td>¿Propone un ejemplo de la idea desarrollada?</td>\n",
       "      <td>0</td>\n",
       "      <td>6</td>\n",
       "    </tr>\n",
       "  </tbody>\n",
       "</table>"
      ],
      "text/plain": [
       "<IPython.core.display.HTML object>"
      ]
     },
     "metadata": {},
     "output_type": "display_data"
    }
   ],
   "source": [
    "Nota.DataFrame()\n",
    "display(HTML(Nota.df.to_html()))\n",
    "#Descomentar para guardar la nota\n",
    "#Nota.Exportar()"
   ]
  },
  {
   "cell_type": "code",
   "execution_count": null,
   "metadata": {},
   "outputs": [],
   "source": []
  },
  {
   "cell_type": "code",
   "execution_count": null,
   "metadata": {},
   "outputs": [],
   "source": []
  }
 ],
 "metadata": {
  "kernelspec": {
   "display_name": "Python 3",
   "language": "python",
   "name": "python3"
  },
  "language_info": {
   "codemirror_mode": {
    "name": "ipython",
    "version": 3
   },
   "file_extension": ".py",
   "mimetype": "text/x-python",
   "name": "python",
   "nbconvert_exporter": "python",
   "pygments_lexer": "ipython3",
   "version": "3.6.5"
  }
 },
 "nbformat": 4,
 "nbformat_minor": 2
}
